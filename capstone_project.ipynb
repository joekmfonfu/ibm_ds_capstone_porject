{
 "cells": [
  {
   "cell_type": "markdown",
   "metadata": {},
   "source": [
    "### IBM Data Science Professional Capstone Project"
   ]
  },
  {
   "cell_type": "markdown",
   "metadata": {},
   "source": [
    "**Problem and Background:**"
   ]
  },
  {
   "cell_type": "markdown",
   "metadata": {},
   "source": [
    "For this capstone project, I decided to revisit the Chicago crime dataset that was used in Course 5 of the IBM Data Science Professional specialization, Databases and SQL for Data Science. The city of Chicago is the U.S’s third largest city by population behind New York City and Los Angeles. For years, Chicago has struggled with crime, and still is today. However, in recent years, the city has made significant progress in its fight against crime and overall, crime has declined by about 10% since 2016 (Kirkos, 2019). Some categories of crime like shootings, robberies, and car jackings have even seen steeper declines than that (Kirkos, 2019). According to Kirkos (2019), the Chicago Police credit the recent drops in violent crimes in part to their “investments in data-driven policing”, which uses data from different sources to identify crime locations and potential crime locations. For this project, I intend to build a model that contributes to these efforts by clustering the 77 community areas of the city based on the types of crimes that happen there and the frequency of those crimes. Once clustered, the crime data for the different clusters will be aggregated to show a comparison of the crime composition across the different clusters, i.e. the proportion of the different crime categories within each of the clusters. Maps will be used to visualize the clusters and charts will be used to visualize their crime compositions. When all is done, this project should be able to present information that can be used by policy makers to tailor policing or anti-crime strategies to the different clusters of community areas."
   ]
  },
  {
   "cell_type": "markdown",
   "metadata": {},
   "source": [
    "**Data Requirement:**"
   ]
  },
  {
   "cell_type": "markdown",
   "metadata": {},
   "source": [
    "The data used is gotten from the Chicago data Portal, which holds crime data from 2001 to present. For this project, the working dataset includes only records for the last 5 years, 2014 to 2019. As of April 9, 2019, this dataset contains 1,399,203 records (or rows) with 22 columns (or features). The data can be gotten from the [Chicago Data Portal](https://data.cityofchicago.org/Public-Safety/Crimes-2001-to-present/ijzp-q8t2) . The top features are Primary Type (which will be relabeled as category) and Community Area (which is a community number that will be matched to a different data set to get the community area name). The 77 community area names and numbers were gotten from another document published by the City of Chicago, which can be gotten at [this link](https://www.chicago.gov/content/dam/city/depts/doit/general/GIS/Chicago_Maps/Citywide_Maps/Community_Areas_W_Numbers.pdf) . Even though the Chicago Data Portal also offers some data files with that information (including CSV, JSON, and GeoJSON), it’s simpler to just copy the names from that document and post in an Excel spreadsheet, since the other source files have a lot of other data that are not relevant to this project. With a little work on the Excel spreadsheet, a clean CSV file of community area numbers and names can be produced. Another piece of data needed for this project is the geographic coordinates of the different community areas in order to visualize them on the map. This data will be gotten through the Geocoder Python package which is documented on the [Geocoder website](https://geocoder.readthedocs.io/index.html) . For each community, the frequency of crime categories will be aggregated and ranked. Then that data will be fit into a K-means clustering algorithm to group the community areas into clusters. While the community areas will be clustered based on the crime rates and categories of crimes, data about the types of venues will be used to add more context and to better understand the communities. Insights gotten from this extra step of analysis, such as checking whether there is any relationship between the types of venues in a community and the types of crimes that occur there, might add more depth to the resulting anti-crime strategy. The venues data will be gotten from Foursquare."
   ]
  },
  {
   "cell_type": "markdown",
   "metadata": {},
   "source": [
    "<ul>Reference</ul>"
   ]
  },
  {
   "cell_type": "markdown",
   "metadata": {},
   "source": [
    "Kirkos, B. (2019, January 01). Chicago murder rate drops for second year in a row. Retrieved April 9, 2019, from https://www.cnn.com/2018/12/31/us/chicago-murders-drop-2018/index.html"
   ]
  },
  {
   "cell_type": "code",
   "execution_count": null,
   "metadata": {},
   "outputs": [],
   "source": []
  }
 ],
 "metadata": {
  "kernelspec": {
   "display_name": "Python 3",
   "language": "python",
   "name": "python3"
  },
  "language_info": {
   "codemirror_mode": {
    "name": "ipython",
    "version": 3
   },
   "file_extension": ".py",
   "mimetype": "text/x-python",
   "name": "python",
   "nbconvert_exporter": "python",
   "pygments_lexer": "ipython3",
   "version": "3.7.1"
  }
 },
 "nbformat": 4,
 "nbformat_minor": 2
}
